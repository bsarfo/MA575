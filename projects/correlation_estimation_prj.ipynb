{
 "cells": [
  {
   "cell_type": "code",
   "execution_count": 1,
   "id": "59c04cc3",
   "metadata": {},
   "outputs": [
    {
     "name": "stdout",
     "output_type": "stream",
     "text": [
      "Project - Libraries Loaded Successfully\n",
      "============================================================\n",
      "Note: Error handling enabled - code will continue running even with incomplete implementations\n"
     ]
    }
   ],
   "source": [
    "import numpy as np\n",
    "import matplotlib.pyplot as plt \n",
    "import pandas as pd\n",
    "import seaborn as sns\n",
    "import math\n",
    "from scipy.optimize import minimize\n",
    "import warnings\n",
    "\n",
    "# Suppress all warnings including type errors\n",
    "warnings.filterwarnings('ignore')\n",
    "\n",
    "# Configure numpy to handle errors gracefully\n",
    "np.seterr(all='ignore')\n",
    "\n",
    "# Set random seed for reproducibility\n",
    "np.random.seed(42)\n",
    "\n",
    "print(\"Project - Libraries Loaded Successfully\")\n",
    "print(\"=\" * 60)\n",
    "print(\"Note: Error handling enabled - code will continue running even with incomplete implementations\")"
   ]
  },
  {
   "cell_type": "markdown",
   "id": "6f933caf",
   "metadata": {},
   "source": [
    "# GARCH(1,1) Correlation Estimation Project\n",
    "\n",
    "## Project Overview\n",
    "This project implements Maximum Likelihood Estimation (MLE) for the GARCH(1,1) model to estimate time-varying volatilities and correlations using daily stock returns. You will analyze real market data to understand volatility clustering and correlation dynamics.\n",
    "\n",
    "## Learning Objectives\n",
    "- Implement GARCH(1,1) model for volatility estimation\n",
    "- Estimate time-varying correlations between financial assets\n",
    "- Analyze correlation patterns and their implications for portfolio risk\n",
    "- Compare correlation behavior across different market periods\n",
    "\n",
    "## Task 1: Individual Volatility Estimation\n",
    "\n",
    "**Requirements:**\n",
    "- Download 3-year historical daily prices for AAPL and MSFT (2021-2024)\n",
    "- Calculate daily returns and implement GARCH(1,1) model for each stock\n",
    "- Estimate parameters: ω (omega), α (alpha), β (beta) using MLE\n",
    "- Plot conditional volatilities over time\n",
    "- **Analysis:** Compare volatility patterns and clustering effects between the two stocks"
   ]
  },
  {
   "cell_type": "code",
   "execution_count": 2,
   "id": "5f9f95e4",
   "metadata": {},
   "outputs": [
    {
     "name": "stdout",
     "output_type": "stream",
     "text": [
      "============================================================\n",
      "Task1 - GARCH(1,1) Volatility Estimation\n",
      "============================================================\n"
     ]
    }
   ],
   "source": [
    "print(f'=' * 60)\n",
    "print(f'Task1 - GARCH(1,1) Volatility Estimation')\n",
    "print(f'=' * 60)\n",
    "# Your code here"
   ]
  },
  {
   "cell_type": "markdown",
   "id": "5e33a478",
   "metadata": {},
   "source": [
    "## Task 2: Dynamic Correlation Estimation\n",
    "\n",
    "**Requirements:**\n",
    "- Implement bivariate GARCH(1,1) model for correlation estimation\n",
    "- Estimate time-varying correlation between AAPL and MSFT returns\n",
    "- Plot correlation dynamics over the 3-year period\n",
    "- **Analysis:** Discuss whether the stocks are positively/negatively correlated and how correlation changes over time"
   ]
  },
  {
   "cell_type": "code",
   "execution_count": 3,
   "id": "01143389",
   "metadata": {},
   "outputs": [
    {
     "name": "stdout",
     "output_type": "stream",
     "text": [
      "============================================================\n",
      "Task2 - GARCH(1,1) Correlation Estimation\n",
      "============================================================\n"
     ]
    }
   ],
   "source": [
    "print(f'=' * 60)\n",
    "print(f'Task2 - GARCH(1,1) Correlation Estimation')\n",
    "print(f'=' * 60)\n",
    "# Your code here"
   ]
  },
  {
   "cell_type": "markdown",
   "id": "6a022b28",
   "metadata": {},
   "source": [
    "## Task 3: Negative Correlation Analysis\n",
    "\n",
    "**Requirements:**\n",
    "- Identify two stocks that exhibit negative correlation during specific market periods\n",
    "- Suggested pairs: Tech vs. Utilities (e.g., AAPL vs. SO), or Growth vs. Value stocks\n",
    "- Download data and estimate rolling correlations \n",
    "- Identify and highlight periods of negative correlation\n",
    "- **Analysis:** Explain the economic rationale for negative correlation periods and their duration\n",
    "\n"
   ]
  },
  {
   "cell_type": "code",
   "execution_count": 6,
   "id": "cf0683c0",
   "metadata": {},
   "outputs": [
    {
     "name": "stdout",
     "output_type": "stream",
     "text": [
      "============================================================\n",
      "Task 3 - Negative Correlation Analysis\n",
      "============================================================\n"
     ]
    }
   ],
   "source": [
    "print(f'=' * 60)\n",
    "print(f'Task 3 - Negative Correlation Analysis')\n",
    "print(f'=' * 60)\n",
    "# Your code here"
   ]
  }
 ],
 "metadata": {
  "kernelspec": {
   "display_name": "venv",
   "language": "python",
   "name": "python3"
  },
  "language_info": {
   "codemirror_mode": {
    "name": "ipython",
    "version": 3
   },
   "file_extension": ".py",
   "mimetype": "text/x-python",
   "name": "python",
   "nbconvert_exporter": "python",
   "pygments_lexer": "ipython3",
   "version": "3.13.4"
  }
 },
 "nbformat": 4,
 "nbformat_minor": 5
}
