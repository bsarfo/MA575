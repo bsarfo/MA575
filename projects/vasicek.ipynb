{
  "cells": [
    {
      "cell_type": "markdown",
      "metadata": {
        "id": "tpdjvwIvr4Nx"
      },
      "source": [
        "# Default rate"
      ]
    },
    {
      "cell_type": "markdown",
      "metadata": {},
      "source": [
        "## Data collection"
      ]
    },
    {
      "cell_type": "code",
      "execution_count": 1,
      "metadata": {
        "colab": {
          "base_uri": "https://localhost:8080/"
        },
        "id": "_T-NYNgxr2mW",
        "outputId": "203e31a1-e4e6-4478-d4c5-d0ccf0c80b3d"
      },
      "outputs": [
        {
          "name": "stdout",
          "output_type": "stream",
          "text": [
            "    Year  Default Rate (%)\n",
            "0   1970             2.621\n",
            "1   1971             0.285\n",
            "2   1972             0.451\n",
            "3   1973             0.453\n",
            "4   1974             0.274\n",
            "5   1975             0.359\n",
            "6   1976             0.175\n",
            "7   1977             0.352\n",
            "8   1978             0.352\n",
            "9   1979             0.088\n",
            "10  1980             0.342\n",
            "11  1981             0.162\n",
            "12  1982             1.032\n",
            "13  1983             0.964\n",
            "14  1984             0.934\n",
            "15  1985             0.960\n",
            "16  1986             1.875\n",
            "17  1987             1.588\n",
            "18  1988             1.372\n",
            "19  1989             2.386\n",
            "20  1990             3.750\n",
            "21  1991             3.091\n",
            "22  1992             1.500\n",
            "23  1993             0.890\n",
            "24  1994             0.663\n",
            "25  1995             1.031\n",
            "26  1996             0.588\n",
            "27  1997             0.765\n",
            "28  1998             1.317\n",
            "29  1999             2.409\n",
            "30  2000             2.852\n",
            "31  2001             4.345\n",
            "32  2002             3.319\n",
            "33  2003             2.018\n",
            "34  2004             0.939\n",
            "35  2005             0.760\n",
            "36  2006             0.721\n",
            "37  2007             0.401\n",
            "38  2008             2.252\n",
            "39  2009             6.002\n",
            "40  2010             1.408\n",
            "41  2011             0.890\n",
            "42  2012             1.381\n",
            "43  2013             1.381\n"
          ]
        }
      ],
      "source": [
        "import pandas as pd\n",
        "\n",
        "# Data from Table 11.4\n",
        "data = {\n",
        "    \"Year\": [\n",
        "        1970, 1971, 1972, 1973, 1974, 1975, 1976, 1977, 1978, 1979,\n",
        "        1980, 1981, 1982, 1983, 1984, 1985, 1986, 1987, 1988, 1989,\n",
        "        1990, 1991, 1992, 1993, 1994, 1995, 1996, 1997, 1998, 1999,\n",
        "        2000, 2001, 2002, 2003, 2004, 2005, 2006, 2007, 2008, 2009,\n",
        "        2010, 2011, 2012, 2013\n",
        "    ],\n",
        "    \"Default Rate (%)\": [\n",
        "        2.621, 0.285, 0.451, 0.453, 0.274, 0.359, 0.175, 0.352, 0.352, 0.088,\n",
        "        0.342, 0.162, 1.032, 0.964, 0.934, 0.960, 1.875, 1.588, 1.372, 2.386,\n",
        "        3.750, 3.091, 1.500, 0.890, 0.663, 1.031, 0.588, 0.765, 1.317, 2.409,\n",
        "        2.852, 4.345, 3.319, 2.018, 0.939, 0.760, 0.721, 0.401, 2.252, 6.002,\n",
        "        1.408, 0.890, 1.381, 1.381\n",
        "    ]\n",
        "}\n",
        "\n",
        "# Create DataFrame\n",
        "df = pd.DataFrame(data)\n",
        "\n",
        "# Display the DataFrame\n",
        "print(df)"
      ]
    },
    {
      "cell_type": "markdown",
      "metadata": {},
      "source": [
        "## Theory - Vasicek model\n",
        "\n",
        "* The pdf of $L$ is\n",
        "$$f_L (x) = \\frac{\\sqrt{1-\\rho}}{\\sqrt{\\rho}}\n",
        "\\exp \\left\\{ \\frac 1 2 \\left( (\\Phi^{-1}(x))^2 - \\left(\\frac{\\sqrt{1-\\rho}\\Phi^{-1}(x) - \\Phi^{-1}(p)}{\\sqrt{\\rho}}\\right)^2 \\right)^2 \\right\\}\n",
        "$$"
      ]
    },
    {
      "cell_type": "markdown",
      "metadata": {
        "id": "b40fb142"
      },
      "source": [
        "# Task\n",
        "\n",
        "- Implement the Maximum Likelihood Estimation (MLE) for the parameters $p$ and $\\rho$ of the given model, using the provided historical default rates.\n",
        "\n",
        "- Summarize your findings. Any idea beyond?"
      ]
    },
    {
      "cell_type": "code",
      "execution_count": 2,
      "metadata": {
        "id": "234d7cd5"
      },
      "outputs": [
        {
          "name": "stdout",
          "output_type": "stream",
          "text": [
            "start your code here ...\n",
            "------------------------------------------\n"
          ]
        }
      ],
      "source": [
        "print(f'start your code here ...')\n",
        "\n",
        "print(f'------------------------------------------')"
      ]
    },
    {
      "cell_type": "markdown",
      "metadata": {},
      "source": [
        "## Project Requirement: Vasicek Model Estimation\n",
        "\n",
        "You are required to:\n",
        "\n",
        "1. Implement the Maximum Likelihood Estimation (MLE) procedure to estimate the parameters $p$ (average default probability) and $\\rho$ (asset correlation) for the Vasicek credit risk model, using the provided historical default rate data.\n",
        "2. Clearly document your methodology, including the likelihood function, optimization approach, and any assumptions made.\n",
        "3. Present and interpret your estimation results, discussing the implications for credit risk management.\n",
        "4. Summarize your findings and suggest any potential extensions or improvements to the analysis.\n",
        "\n",
        "Deliverables:\n",
        "- Well-commented Python code for MLE implementation\n",
        "- A concise summary of results and insights\n",
        "- Optional: Discussion of further ideas or model enhancements"
      ]
    },
    {
      "cell_type": "markdown",
      "metadata": {},
      "source": []
    }
  ],
  "metadata": {
    "colab": {
      "provenance": []
    },
    "kernelspec": {
      "display_name": "venv",
      "language": "python",
      "name": "python3"
    },
    "language_info": {
      "codemirror_mode": {
        "name": "ipython",
        "version": 3
      },
      "file_extension": ".py",
      "mimetype": "text/x-python",
      "name": "python",
      "nbconvert_exporter": "python",
      "pygments_lexer": "ipython3",
      "version": "3.13.4"
    }
  },
  "nbformat": 4,
  "nbformat_minor": 0
}
