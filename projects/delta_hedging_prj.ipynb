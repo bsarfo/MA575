{
  "cells": [
    {
      "cell_type": "markdown",
      "metadata": {
        "id": "view-in-github",
        "colab_type": "text"
      },
      "source": [
        "<a href=\"https://colab.research.google.com/github/qsongatwpi/MA575/blob/main/projects/delta_hedging_prj.ipynb\" target=\"_parent\"><img src=\"https://colab.research.google.com/assets/colab-badge.svg\" alt=\"Open In Colab\"/></a>"
      ]
    },
    {
      "cell_type": "code",
      "execution_count": 1,
      "id": "01aa6beb",
      "metadata": {
        "colab": {
          "base_uri": "https://localhost:8080/"
        },
        "id": "01aa6beb",
        "outputId": "00e47f1b-fbc3-41b0-a11f-21cbae6abe86"
      },
      "outputs": [
        {
          "output_type": "stream",
          "name": "stdout",
          "text": [
            "Delta Hedging Project - Libraries Loaded Successfully\n",
            "============================================================\n",
            "Note: Error handling enabled - code will continue running even with incomplete implementation\n"
          ]
        }
      ],
      "source": [
        "import numpy as np\n",
        "import matplotlib.pyplot as plt\n",
        "import pandas as pd\n",
        "import scipy.stats as stats\n",
        "from scipy.stats import norm\n",
        "import warnings\n",
        "\n",
        "# Suppress all warnings including type errors\n",
        "warnings.filterwarnings('ignore')\n",
        "\n",
        "# Configure numpy to handle errors gracefully\n",
        "np.seterr(all='ignore')\n",
        "\n",
        "# Set random seed for reproducibility\n",
        "np.random.seed(42)\n",
        "\n",
        "print(\"Delta Hedging Project - Libraries Loaded Successfully\")\n",
        "print(\"=\" * 60)\n",
        "print(\"Note: Error handling enabled - code will continue running even with incomplete implementation\")"
      ]
    },
    {
      "cell_type": "markdown",
      "id": "97ccd9df",
      "metadata": {
        "id": "97ccd9df"
      },
      "source": [
        "# Delta Hedging Project\n",
        "\n",
        "## Objective\n",
        "This project demonstrates the practical implementation of delta hedging strategies using the Black-Scholes model. Students will learn to:\n",
        "1. Calculate Black-Scholes option prices and Greeks\n",
        "2. Implement dynamic delta hedging strategies\n",
        "3. Analyze hedging effectiveness under different market scenarios\n",
        "4. Understand the relationship between theory and practice in risk management\n",
        "\n",
        "## Theoretical Background\n",
        "\n",
        "### Black-Scholes Formula\n",
        "The Black-Scholes price of a European call option is:\n",
        "$$C(S, t) = S \\Phi(d_1) - K e^{-r(T-t)} \\Phi(d_2)$$\n",
        "\n",
        "where:\n",
        "$$d_1 = \\frac{\\ln(S/K) + (r + \\frac{1}{2}\\sigma^2)(T-t)}{\\sigma \\sqrt{T-t}}, \\quad d_2 = d_1 - \\sigma \\sqrt{T-t}$$\n",
        "\n",
        "and $\\Phi(\\cdot)$ is the standard normal cumulative distribution function.\n",
        "\n",
        "### Key Properties\n",
        "1. **Delta (Δ)**: The option's sensitivity to underlying price changes\n",
        "   $$\\Delta = \\frac{\\partial C}{\\partial S} = \\Phi(d_1)$$\n",
        "\n",
        "2. **Gamma (Γ)**: The rate of change of delta with respect to the underlying price\n",
        "   $$\\Gamma = \\frac{\\partial^2 C}{\\partial S^2} = \\frac{\\phi(d_1)}{S \\sigma \\sqrt{T-t}}$$\n"
      ]
    },
    {
      "cell_type": "markdown",
      "id": "60656633",
      "metadata": {
        "id": "60656633"
      },
      "source": [
        "## Problem Setup\n",
        "\n",
        "### Scenario\n",
        "Consider a derivatives trader who has **sold 100,000 European call options** and needs to implement a delta hedging strategy to manage the risk exposure.\n",
        "\n",
        "### Market Parameters\n",
        "| Parameter | Symbol | Value | Unit |\n",
        "|-----------|--------|-------|------|\n",
        "| Current spot price | $S_0$ | 49 | USD |\n",
        "| Strike price | $K$ | 50 | USD |\n",
        "| Time to maturity | $T$ | 20 | weeks |\n",
        "| Risk-free rate | $r$ | 5% | per annum |\n",
        "| Volatility | $\\sigma$ | 20% | per annum |\n",
        "| Expected return (drift) | $\\mu$ | 8% | per annum |\n",
        "\n",
        "### Initial Conditions\n",
        "- **Position**: Short 100,000 call options\n",
        "- **Premium received**: $300,000 (given)\n",
        "- **Hedging frequency**: Weekly rebalancing\n",
        "- **Objective**: Minimize the portfolio's sensitivity to stock price movements\n"
      ]
    },
    {
      "cell_type": "code",
      "execution_count": 2,
      "id": "b9041d48",
      "metadata": {
        "id": "b9041d48"
      },
      "outputs": [],
      "source": [
        "# Black-Scholes parameters\n",
        "S = 49  # Underlying asset price\n",
        "K = 50  # Strike price\n",
        "T = 20/52    # Time to maturity\n",
        "r = 0.05 # Risk-free interest rate\n",
        "sigma = 0.2 # Volatility\n",
        "mu = 0.08 # drift"
      ]
    },
    {
      "cell_type": "markdown",
      "id": "f4df39e0",
      "metadata": {
        "id": "f4df39e0"
      },
      "source": [
        "## Task 1: Black-Scholes Calculations and Initial Analysis\n",
        "\n",
        "### Requirements\n",
        "Complete the following calculations and analysis:\n",
        "\n",
        "1. **Implement Black-Scholes functions** to calculate:\n",
        "   - Call option price $C(S_0, 0)$\n",
        "   - Parameters $d_1$ and $d_2$\n",
        "   - Delta $\\Delta = \\Phi(d_1)$\n",
        "   - Gamma $\\Gamma = \\frac{\\phi(d_1)}{S \\sigma \\sqrt{T}}$\n",
        "\n",
        "2. **Calculate theoretical portfolio value**:\n",
        "   - Given that 100,000 options were sold for $300,000\n",
        "   - Compare with Black-Scholes theoretical value\n",
        "   - Calculate the implied profit/loss at inception\n",
        "\n",
        "3. **Create payoff diagram**:\n",
        "   - Plot option payoff at maturity vs. stock price range [30, 70]\n",
        "   - Show portfolio (-100,000 options+300,000 dollar cash) payoff\n"
      ]
    },
    {
      "cell_type": "code",
      "execution_count": 3,
      "id": "03c891fb",
      "metadata": {
        "colab": {
          "base_uri": "https://localhost:8080/"
        },
        "id": "03c891fb",
        "outputId": "fbc6999a-d108-4293-e466-36b204bf78a5"
      },
      "outputs": [
        {
          "output_type": "stream",
          "name": "stdout",
          "text": [
            "TASK 1: BLACK-SCHOLES CALCULATIONS\n",
            "==================================================\n"
          ]
        }
      ],
      "source": [
        "# Task 1 Solution\n",
        "print(\"TASK 1: BLACK-SCHOLES CALCULATIONS\")\n",
        "print(\"=\" * 50)\n"
      ]
    },
    {
      "cell_type": "code",
      "execution_count": 4,
      "id": "ce284353",
      "metadata": {
        "id": "ce284353"
      },
      "outputs": [],
      "source": [
        "# Simulate weekly stock price paths using geometric brownian motion\n",
        "def simulate_gbm(S0, mu, sigma, T, dt=1/52, paths=1000):\n",
        "    \"\"\"\n",
        "    Simulate paths for a geometric Brownian motion process.\n",
        "    \"\"\"\n",
        "    n_steps = int(T / dt)\n",
        "    time_grid = np.linspace(0, T, n_steps)\n",
        "    S_paths = np.zeros((n_steps, paths))\n",
        "    S_paths[0] = S0\n",
        "\n",
        "    for t in range(1, n_steps):\n",
        "        Z = np.random.normal(size=paths)\n",
        "        S_paths[t] = S_paths[t-1] * np.exp((mu - 0.5 * sigma**2) * dt + sigma * np.sqrt(dt) * Z)\n",
        "\n",
        "    return time_grid, S_paths\n"
      ]
    },
    {
      "cell_type": "code",
      "execution_count": 9,
      "id": "edb57e9f",
      "metadata": {
        "colab": {
          "base_uri": "https://localhost:8080/",
          "height": 564
        },
        "id": "edb57e9f",
        "outputId": "ebc4cfa3-e8f6-4e85-9a63-8820a1452eed"
      },
      "outputs": [
        {
          "output_type": "display_data",
          "data": {
            "text/plain": [
              "<Figure size 1000x600 with 1 Axes>"
            ],
            "image/png": "[encoded data removed]"
          },
          "metadata": {}
        }
      ],
      "source": [
        "# Simulate one path with above parameters\n",
        "#fix simulation random seed\n",
        "dt = 1/52 # weekly time step\n",
        "\n",
        "np.random.seed(123)\n",
        "\n",
        "time_grid, S_paths = simulate_gbm(S, mu, sigma, T, dt=dt, paths=1)\n",
        "#plot\n",
        "plt.figure(figsize=(10, 6))\n",
        "plt.plot(time_grid, S_paths, label=\"Simulated Stock Price Path\", color=\"blue\")\n",
        "plt.title(\"Simulated Stock Price Path using GBM\")\n",
        "plt.xlabel(\"Time (Weeks)\")\n",
        "plt.ylabel(\"Stock Price\")\n",
        "plt.legend()\n",
        "plt.grid()\n",
        "plt.show()\n"
      ]
    },
    {
      "cell_type": "markdown",
      "id": "d2a54ab9",
      "metadata": {
        "id": "d2a54ab9"
      },
      "source": [
        "## Task 2: Dynamic Delta Hedging Implementation\n",
        "\n",
        "### Objectives\n",
        "Using the simulated stock price path above, implement a dynamic delta hedging strategy with weekly rebalancing.\n",
        "\n",
        "### Requirements\n",
        "\n",
        "1. **Portfolio Value at Maturity (No Hedging)**:\n",
        "   - Calculate the portfolio value at maturity assuming no hedging\n",
        "   - Compare with the premium received initially\n",
        "\n",
        "2. **Implement Delta Hedging Algorithm**:\n",
        "   - Start with initial cash from option premium ($300,000)\n",
        "   - At each time step:\n",
        "     - Calculate current option value and delta\n",
        "     - Determine required hedge ratio (shares to hold)\n",
        "     - Buy/sell shares to maintain delta neutrality\n",
        "     - Update cash position (include interest on cash)\n",
        "   - Track weekly data in a structured format\n",
        "3. **Required Output Table** (for each week):\n",
        "\n",
        "| Week | Stock Price | Option Price | Delta | Shares Held | Cash Position |\n",
        "|------|-------------|--------------|-------|-------------|---------------|\n",
        "| 0    | 49.00       | ?            | ?     | ?           | 300,000       |\n",
        "| 1    | ?           | ?            | ?     | ?           | ?             |\n",
        "| ...  | ...         | ...          | ...   | ...         | ...           |\n",
        "\n",
        "4. **Analysis Questions**:\n",
        "   - What is the final portfolio value after delta hedging?\n",
        "   - How does this compare to the unhedged scenario?\n",
        "   - How effective was the delta hedging strategy?\n"
      ]
    },
    {
      "cell_type": "code",
      "execution_count": 6,
      "id": "dd049cd8",
      "metadata": {
        "colab": {
          "base_uri": "https://localhost:8080/"
        },
        "id": "dd049cd8",
        "outputId": "fe6fb57f-47da-440a-d98d-f711a0060b1e"
      },
      "outputs": [
        {
          "output_type": "stream",
          "name": "stdout",
          "text": [
            "TASK 2: DYNAMIC DELTA HEDGING\n",
            "==================================================\n"
          ]
        }
      ],
      "source": [
        "# Task 2 Solution: Delta Hedging Implementation\n",
        "print(\"TASK 2: DYNAMIC DELTA HEDGING\")\n",
        "print(\"=\" * 50)\n"
      ]
    },
    {
      "cell_type": "markdown",
      "id": "bf9347b2",
      "metadata": {
        "id": "bf9347b2"
      },
      "source": [
        "## Task 3: Multiple Path Analysis and Conclusion\n",
        "\n",
        "### Requirements\n",
        "\n",
        "1. **Multiple Simulation Analysis**:\n",
        "   - Run the delta hedging simulation for at least 5 different random paths\n",
        "   - Use different random seeds (e.g., 123, 456, 789, 101112, 131415)\n",
        "   - For each path, calculate:\n",
        "     - Final portfolio value with delta hedging\n",
        "     - Final portfolio value without hedging\n",
        "\n",
        "2. **Research Questions**:\n",
        "   Answer the following based on your analysis:\n",
        "   - How effective is weekly delta hedging in reducing portfolio risk?\n",
        "   - What factors contribute to hedging errors?\n",
        "   - How does the hedging performance vary across different market scenarios?\n",
        "   - What are the practical limitations of delta hedging?\n",
        "   - Any other thoughts?\n"
      ]
    },
    {
      "cell_type": "code",
      "execution_count": null,
      "id": "f2cf16e6",
      "metadata": {
        "colab": {
          "base_uri": "https://localhost:8080/"
        },
        "id": "f2cf16e6",
        "outputId": "5d8762e4-47b4-4ade-c559-5f948b02705a"
      },
      "outputs": [
        {
          "output_type": "stream",
          "name": "stdout",
          "text": [
            "TASK 3: MULTIPLE PATH ANALYSIS AND CONCLUSION\n",
            "============================================================\n"
          ]
        }
      ],
      "source": [
        "# Task 3 Solution: Multiple Path Analysis\n",
        "print(\"TASK 3: MULTIPLE PATH ANALYSIS AND CONCLUSION\")\n",
        "print(\"=\" * 60)\n"
      ]
    },
    {
      "cell_type": "code",
      "execution_count": null,
      "id": "49f82c5f",
      "metadata": {
        "id": "49f82c5f"
      },
      "outputs": [],
      "source": []
    }
  ],
  "metadata": {
    "kernelspec": {
      "display_name": "venv",
      "language": "python",
      "name": "python3"
    },
    "language_info": {
      "codemirror_mode": {
        "name": "ipython",
        "version": 3
      },
      "file_extension": ".py",
      "mimetype": "text/x-python",
      "name": "python",
      "nbconvert_exporter": "python",
      "pygments_lexer": "ipython3",
      "version": "3.13.4"
    },
    "colab": {
      "provenance": [],
      "include_colab_link": true
    }
  },
  "nbformat": 4,
  "nbformat_minor": 5
}